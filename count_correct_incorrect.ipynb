{
 "cells": [
  {
   "cell_type": "markdown",
   "metadata": {},
   "source": [
    "# count_correct_incorrect.ipynb\n",
    "\n",
    "This file contains the code for counting the percentage of correct answers in the dataset to find how much the data is imbalanced."
   ]
  },
  {
   "cell_type": "code",
   "execution_count": null,
   "metadata": {},
   "outputs": [],
   "source": [
    "# Import libraries\n",
    "\n",
    "import pandas as pd"
   ]
  },
  {
   "cell_type": "code",
   "execution_count": 9,
   "metadata": {},
   "outputs": [
    {
     "name": "stdout",
     "output_type": "stream",
     "text": [
      "3881 1937 1056 6874\n"
     ]
    },
    {
     "name": "stderr",
     "output_type": "stream",
     "text": [
      "/var/folders/15/bmbcw71s1l12pc4g0617fwww0000gn/T/ipykernel_64162/962658434.py:9: FutureWarning: The frame.append method is deprecated and will be removed from pandas in a future version. Use pandas.concat instead.\n",
      "  df = df_train.append(df_val)\n",
      "/var/folders/15/bmbcw71s1l12pc4g0617fwww0000gn/T/ipykernel_64162/962658434.py:10: FutureWarning: The frame.append method is deprecated and will be removed from pandas in a future version. Use pandas.concat instead.\n",
      "  df = df.append(df_test)\n"
     ]
    },
    {
     "data": {
      "text/html": [
       "<div>\n",
       "<style scoped>\n",
       "    .dataframe tbody tr th:only-of-type {\n",
       "        vertical-align: middle;\n",
       "    }\n",
       "\n",
       "    .dataframe tbody tr th {\n",
       "        vertical-align: top;\n",
       "    }\n",
       "\n",
       "    .dataframe thead th {\n",
       "        text-align: right;\n",
       "    }\n",
       "</style>\n",
       "<table border=\"1\" class=\"dataframe\">\n",
       "  <thead>\n",
       "    <tr style=\"text-align: right;\">\n",
       "      <th></th>\n",
       "      <th>student_id</th>\n",
       "      <th>question_ids</th>\n",
       "      <th>answers</th>\n",
       "      <th>difficulties</th>\n",
       "      <th>hint_used</th>\n",
       "    </tr>\n",
       "  </thead>\n",
       "  <tbody>\n",
       "    <tr>\n",
       "      <th>0</th>\n",
       "      <td>1451</td>\n",
       "      <td>[2, 3, 4, 5, 6, 7, 8, 9, 10, 11, 12, 13, 14, 1...</td>\n",
       "      <td>[1, 1, 1, 0, 1, 1, 1, 0, 1, 1, 1, 1, 1, 1, 1, ...</td>\n",
       "      <td>[1, 1, 1, 2, 1, 1, 2, 1, 2, 2, 2, 2, 3, 2, 2, ...</td>\n",
       "      <td>[0, 0, 0, 0, 0, 0, 0, 0, 0, 0, 0, 0, 0, 0, 0, ...</td>\n",
       "    </tr>\n",
       "    <tr>\n",
       "      <th>1</th>\n",
       "      <td>1451</td>\n",
       "      <td>[22, 23, 24, 25, 26, 27, 28, 29, 30, 31, 32, 3...</td>\n",
       "      <td>[1, 1, 1, 1, 1, 1, 1, 1, 1, 1, 1, 1, 1, 1, 1, ...</td>\n",
       "      <td>[3, 2, 1, 2, 2, 2, 1, 2, 2, 2, 2, 2, 2, 2, 1, ...</td>\n",
       "      <td>[0, 0, 0, 0, 0, 0, 0, 0, 0, 0, 0, 0, 0, 0, 0, ...</td>\n",
       "    </tr>\n",
       "    <tr>\n",
       "      <th>2</th>\n",
       "      <td>1451</td>\n",
       "      <td>[42, 43, 44, 45, 46, 47, 48, 49, 50, 51, 52, 5...</td>\n",
       "      <td>[1, 1, 0, 1, 1, 1, 1, 1, 1, 0, 1, 0, 1, 0, 1, ...</td>\n",
       "      <td>[1, 1, 1, 1, 2, 2, 3, 2, 1, 1, 1, 1, 2, 1, 1, ...</td>\n",
       "      <td>[0, 0, 0, 0, 0, 0, 0, 0, 0, 0, 0, 0, 0, 0, 0, ...</td>\n",
       "    </tr>\n",
       "    <tr>\n",
       "      <th>3</th>\n",
       "      <td>1451</td>\n",
       "      <td>[62, 63, 64, 65, 66, 67, 68, 69, 70, 71, 72, 7...</td>\n",
       "      <td>[1, 1, 0, 0, 1, 1, 1, 0, 1, 1, 1, 0, 1, 1, 0, ...</td>\n",
       "      <td>[1, 1, 1, 1, 1, 1, 1, 2, 2, 2, 2, 1, 2, 2, 2, ...</td>\n",
       "      <td>[0, 0, 0, 0, 0, 0, 0, 0, 0, 0, 0, 0, 0, 0, 0, ...</td>\n",
       "    </tr>\n",
       "    <tr>\n",
       "      <th>4</th>\n",
       "      <td>1451</td>\n",
       "      <td>[82, 83, 84, 85, 86, 87, 91, 92, 93, 94, 95, 9...</td>\n",
       "      <td>[1, 1, 1, 1, 1, 1, 1, 1, 1, 1, 1, 1, 0, 1, 1, ...</td>\n",
       "      <td>[2, 3, 3, 3, 3, 2, 1, 1, 1, 1, 1, 2, 2, 1, 1, ...</td>\n",
       "      <td>[0, 0, 0, 0, 0, 0, 0, 0, 0, 0, 0, 0, 1, 0, 0, ...</td>\n",
       "    </tr>\n",
       "  </tbody>\n",
       "</table>\n",
       "</div>"
      ],
      "text/plain": [
       "   student_id                                       question_ids  \\\n",
       "0        1451  [2, 3, 4, 5, 6, 7, 8, 9, 10, 11, 12, 13, 14, 1...   \n",
       "1        1451  [22, 23, 24, 25, 26, 27, 28, 29, 30, 31, 32, 3...   \n",
       "2        1451  [42, 43, 44, 45, 46, 47, 48, 49, 50, 51, 52, 5...   \n",
       "3        1451  [62, 63, 64, 65, 66, 67, 68, 69, 70, 71, 72, 7...   \n",
       "4        1451  [82, 83, 84, 85, 86, 87, 91, 92, 93, 94, 95, 9...   \n",
       "\n",
       "                                             answers  \\\n",
       "0  [1, 1, 1, 0, 1, 1, 1, 0, 1, 1, 1, 1, 1, 1, 1, ...   \n",
       "1  [1, 1, 1, 1, 1, 1, 1, 1, 1, 1, 1, 1, 1, 1, 1, ...   \n",
       "2  [1, 1, 0, 1, 1, 1, 1, 1, 1, 0, 1, 0, 1, 0, 1, ...   \n",
       "3  [1, 1, 0, 0, 1, 1, 1, 0, 1, 1, 1, 0, 1, 1, 0, ...   \n",
       "4  [1, 1, 1, 1, 1, 1, 1, 1, 1, 1, 1, 1, 0, 1, 1, ...   \n",
       "\n",
       "                                        difficulties  \\\n",
       "0  [1, 1, 1, 2, 1, 1, 2, 1, 2, 2, 2, 2, 3, 2, 2, ...   \n",
       "1  [3, 2, 1, 2, 2, 2, 1, 2, 2, 2, 2, 2, 2, 2, 1, ...   \n",
       "2  [1, 1, 1, 1, 2, 2, 3, 2, 1, 1, 1, 1, 2, 1, 1, ...   \n",
       "3  [1, 1, 1, 1, 1, 1, 1, 2, 2, 2, 2, 1, 2, 2, 2, ...   \n",
       "4  [2, 3, 3, 3, 3, 2, 1, 1, 1, 1, 1, 2, 2, 1, 1, ...   \n",
       "\n",
       "                                           hint_used  \n",
       "0  [0, 0, 0, 0, 0, 0, 0, 0, 0, 0, 0, 0, 0, 0, 0, ...  \n",
       "1  [0, 0, 0, 0, 0, 0, 0, 0, 0, 0, 0, 0, 0, 0, 0, ...  \n",
       "2  [0, 0, 0, 0, 0, 0, 0, 0, 0, 0, 0, 0, 0, 0, 0, ...  \n",
       "3  [0, 0, 0, 0, 0, 0, 0, 0, 0, 0, 0, 0, 0, 0, 0, ...  \n",
       "4  [0, 0, 0, 0, 0, 0, 0, 0, 0, 0, 0, 0, 1, 0, 0, ...  "
      ]
     },
     "execution_count": 9,
     "metadata": {},
     "output_type": "execute_result"
    }
   ],
   "source": [
    "df_train = pd.read_json('data_outputs/train_fold_1_n_20.json') # change for different files to see the results\n",
    "df_val = pd.read_json('data_outputs/val_fold_1_n_20.json') # change for different files to see the results\n",
    "df_test = pd.read_json('data_outputs/test_n_20.json') # change for different files to see the results\n",
    "\n",
    "# Append the dataframes\n",
    "df = df_train.append(df_val)\n",
    "df = df.append(df_test)\n",
    "\n",
    "# Check the dataframes\n",
    "print(len(df_train), len(df_val), len(df_test), len(df))\n",
    "df.head()"
   ]
  },
  {
   "cell_type": "code",
   "execution_count": 10,
   "metadata": {},
   "outputs": [
    {
     "name": "stdout",
     "output_type": "stream",
     "text": [
      "6874\n",
      "1 ratio 0.715740471341286\n"
     ]
    }
   ],
   "source": [
    "correct_ratio = df['answers'].apply(lambda x: x[-1] == 1).sum() # x[-1] refers to the last answer; 1 == correct, 0 == incorrect\n",
    "\n",
    "print(\"Correct ratio:\", 1.0*correct_ratio/len(df))"
   ]
  }
 ],
 "metadata": {
  "kernelspec": {
   "display_name": "env_tf",
   "language": "python",
   "name": "python3"
  },
  "language_info": {
   "codemirror_mode": {
    "name": "ipython",
    "version": 3
   },
   "file_extension": ".py",
   "mimetype": "text/x-python",
   "name": "python",
   "nbconvert_exporter": "python",
   "pygments_lexer": "ipython3",
   "version": "3.9.12"
  }
 },
 "nbformat": 4,
 "nbformat_minor": 2
}
